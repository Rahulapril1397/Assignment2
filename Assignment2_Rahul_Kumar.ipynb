{
 "cells": [
  {
   "cell_type": "code",
   "execution_count": 151,
   "metadata": {},
   "outputs": [],
   "source": [
    "#Import Libraries\n",
    "import numpy as np\n",
    "import pandas as pd\n",
    "import matplotlib.pyplot as plt"
   ]
  },
  {
   "cell_type": "code",
   "execution_count": 152,
   "metadata": {},
   "outputs": [],
   "source": [
    "#Read data files\n",
    "df1= pd.read_csv('winequality-white.csv', sep = ';')\n",
    "#df1  #(4898,12)\n",
    "df2= pd.read_csv('winequality-red.csv', sep = ';')\n",
    "#df2  #(1599,12)"
   ]
  },
  {
   "cell_type": "code",
   "execution_count": 153,
   "metadata": {},
   "outputs": [],
   "source": [
    "#concatnate both the data file\n",
    "df= df1.append(df2)\n",
    "#df   #(6497,12)"
   ]
  },
  {
   "cell_type": "code",
   "execution_count": 154,
   "metadata": {},
   "outputs": [],
   "source": [
    "#Defining features matrix and target matrix\n",
    "x= np.asarray(df.drop('quality', axis=1))\n",
    "#x  #(6497,11)\n",
    "y= np.asarray(df['quality']).reshape(df.shape[0],1)\n",
    "#y  #(6497,1)"
   ]
  },
  {
   "cell_type": "code",
   "execution_count": 155,
   "metadata": {},
   "outputs": [],
   "source": [
    "#Standardization \n",
    "x = (x-x.mean())/x.std()\n",
    "#y = (y-y.mean())/y.std()"
   ]
  },
  {
   "cell_type": "code",
   "execution_count": 156,
   "metadata": {},
   "outputs": [],
   "source": [
    "#splitting into test set and training set\n",
    "from sklearn.model_selection import train_test_split\n",
    "x_train, x_test, y_train, y_test = train_test_split(x, y, test_size= 0.2)\n",
    "#x_train #(5197, 11)\n",
    "#x_test   #(1300,11)\n",
    "#y_train  #(5197,1)\n",
    "#y_test   #(1300,1)"
   ]
  },
  {
   "cell_type": "code",
   "execution_count": 157,
   "metadata": {},
   "outputs": [],
   "source": [
    "#Biased Term\n",
    "unit = np.ones((x_train.shape[0], 1))\n",
    "unit_test = np.ones((x_test.shape[0],1))\n",
    "#unit\n",
    "x_train = np.concatenate((unit, x_train), axis=1)\n",
    "#x_train    #(5197,12)\n",
    "x_test = np.concatenate((unit_test, x_test), axis=1)"
   ]
  },
  {
   "cell_type": "code",
   "execution_count": 158,
   "metadata": {},
   "outputs": [],
   "source": [
    "#Regression \n",
    "#x_train.shape[1]\n",
    "theta= np.zeros((x_train.shape[1],1))\n",
    "#theta\n",
    "y_predict = np.dot(x_train,theta)\n",
    "#y_predict   #(5197,1)"
   ]
  },
  {
   "cell_type": "code",
   "execution_count": 159,
   "metadata": {},
   "outputs": [],
   "source": [
    "#Batch Gradient descent\n",
    "def train_model(itter, alpha, x_train, y_train, theta):\n",
    "    J=np.ones(itter)\n",
    "    for i in range(itter):\n",
    "        #update theta using gradient descent\n",
    "        theta = theta - (alpha/x_train.shape[0])*((np.dot((np.dot(x_train, theta)-y_train).T,x_train)).T)\n",
    "        #Predicted y for each updated theta\n",
    "        y_predict = np.dot(x_train, theta)\n",
    "        #Cost Function\n",
    "        J[i]= (1/(2*x_train.shape[0]))*(np.sum(np.square(np.dot(x_train, theta)-y_train), axis=0))\n",
    "    return J,theta"
   ]
  },
  {
   "cell_type": "code",
   "execution_count": 160,
   "metadata": {},
   "outputs": [],
   "source": [
    "J,theta= train_model(1000, 0.01, x_train, y_train, theta )"
   ]
  },
  {
   "cell_type": "code",
   "execution_count": 161,
   "metadata": {},
   "outputs": [
    {
     "data": {
      "text/plain": [
       "[<matplotlib.lines.Line2D at 0x7fc30ca73cc0>]"
      ]
     },
     "execution_count": 161,
     "metadata": {},
     "output_type": "execute_result"
    },
    {
     "data": {
      "image/png": "[encoded data removed]",
      "text/plain": [
       "<Figure size 432x288 with 1 Axes>"
      ]
     },
     "metadata": {
      "needs_background": "light"
     },
     "output_type": "display_data"
    }
   ],
   "source": [
    "#Plot of cost v/s iterations \n",
    "plt.plot(J)\n"
   ]
  },
  {
   "cell_type": "code",
   "execution_count": 162,
   "metadata": {},
   "outputs": [
    {
     "data": {
      "text/plain": [
       "0.3857071586387342"
      ]
     },
     "execution_count": 162,
     "metadata": {},
     "output_type": "execute_result"
    }
   ],
   "source": [
    "#cost function at each iteration\n",
    "J[-1]"
   ]
  },
  {
   "cell_type": "code",
   "execution_count": 163,
   "metadata": {},
   "outputs": [
    {
     "data": {
      "text/plain": [
       "array([[ 2.66642885],\n",
       "       [-0.58682335],\n",
       "       [-1.11530622],\n",
       "       [-1.11422629],\n",
       "       [-0.96878142],\n",
       "       [-1.13354174],\n",
       "       [-0.00474872],\n",
       "       [ 0.03808055],\n",
       "       [-1.06615783],\n",
       "       [-0.90202325],\n",
       "       [-1.09312303],\n",
       "       [-0.23183454]])"
      ]
     },
     "execution_count": 163,
     "metadata": {},
     "output_type": "execute_result"
    }
   ],
   "source": [
    "#Trained theta after all iterations\n",
    "theta"
   ]
  },
  {
   "cell_type": "code",
   "execution_count": 164,
   "metadata": {},
   "outputs": [
    {
     "data": {
      "text/plain": [
       "array([[5.92723953],\n",
       "       [5.80076705],\n",
       "       [5.70841196],\n",
       "       ...,\n",
       "       [5.74056589],\n",
       "       [5.89427282],\n",
       "       [5.85710488]])"
      ]
     },
     "execution_count": 164,
     "metadata": {},
     "output_type": "execute_result"
    }
   ],
   "source": [
    "#predicted value for test set using trained model\n",
    "y_predict_test = np.dot(x_test, theta)\n",
    "y_predict_test"
   ]
  },
  {
   "cell_type": "code",
   "execution_count": 165,
   "metadata": {},
   "outputs": [
    {
     "data": {
      "text/plain": [
       "0.690698362345881"
      ]
     },
     "execution_count": 165,
     "metadata": {},
     "output_type": "execute_result"
    }
   ],
   "source": [
    "#Absolute error\n",
    "ma= (np.sum(np.absolute(y_predict_test-y_test)))/len(y_test)\n",
    "ma"
   ]
  },
  {
   "cell_type": "code",
   "execution_count": null,
   "metadata": {},
   "outputs": [],
   "source": [
    "#COST FUNCTION\n",
    "Cost function measures the accuracy of hypothesis function.\n",
    "J(theta) = (1/2*m)summation(square(y_predict-y_train))\n",
    "In vector form,\n",
    "J(theta) = (1/2*m)summation(((y_predict-y_train).Transpose)*(y_predict-y_train))\n",
    "\n",
    "#DERIVATIVES \n",
    "Derivatives of cost function is used in gradient descent to update theta at each iterations.\n",
    "Del(J(theta))= (1/m)*summation((y_predict-y_train)*x_train)\n",
    "In vector form,\n",
    "Del(J(theta))= (1/m)*(x_train.Transpose(y_predict-y_train))\n"
   ]
  }
 ],
 "metadata": {
  "kernelspec": {
   "display_name": "Python 3",
   "language": "python",
   "name": "python3"
  },
  "language_info": {
   "codemirror_mode": {
    "name": "ipython",
    "version": 3
   },
   "file_extension": ".py",
   "mimetype": "text/x-python",
   "name": "python",
   "nbconvert_exporter": "python",
   "pygments_lexer": "ipython3",
   "version": "3.7.3"
  }
 },
 "nbformat": 4,
 "nbformat_minor": 2
}
